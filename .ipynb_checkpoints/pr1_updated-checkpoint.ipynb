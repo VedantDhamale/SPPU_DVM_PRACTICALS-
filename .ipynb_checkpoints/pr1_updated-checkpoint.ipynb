{
 "cells": [
  {
   "cell_type": "code",
   "execution_count": null,
   "id": "22027e6e-d31d-4afb-8092-247f87e49ef2",
   "metadata": {},
   "outputs": [],
   "source": [
    "import pandas as pd\n",
    "import numpy as np\n",
    "from matplotlib import pyplot as plt\n",
    "import seaborn as sns\n",
    "import json"
   ]
  },
  {
   "cell_type": "code",
   "execution_count": null,
   "id": "e2712708-c3ed-477a-8492-ff7e1cd1afdf",
   "metadata": {},
   "outputs": [],
   "source": [
    "sale_csv=pd.read_csv(\"sales_data_sample.csv\",encoding=\"ISO-8859-1\")"
   ]
  },
  {
   "cell_type": "code",
   "execution_count": null,
   "id": "b00067b4-4b2b-4732-9301-1c85724b0e7e",
   "metadata": {},
   "outputs": [],
   "source": [
    "sale_excel=pd.read_excel(\"Sales.xlsx\")"
   ]
  },
  {
   "cell_type": "code",
   "execution_count": null,
   "id": "ca5e6da9-ac9f-45a9-b2b6-7a79c4b94fa6",
   "metadata": {},
   "outputs": [],
   "source": [
    "# with open('sales.json','r') as file:\n",
    "#     data=json.load(file)\n",
    "\n",
    "sale_json=pd.read_json(\"sales.json\",orient='index')"
   ]
  },
  {
   "cell_type": "code",
   "execution_count": null,
   "id": "80fc48dd-56bd-468d-bbba-613933c37895",
   "metadata": {},
   "outputs": [],
   "source": [
    "# sale_json=pd.DataFrame.from_dict(data,orient='index')"
   ]
  },
  {
   "cell_type": "code",
   "execution_count": null,
   "id": "671793c6-9155-481b-8e0d-e6da8adb8247",
   "metadata": {},
   "outputs": [],
   "source": [
    "sale_csv.head()"
   ]
  },
  {
   "cell_type": "code",
   "execution_count": null,
   "id": "d7bae8c6-d09f-43a0-927b-a859ab19b858",
   "metadata": {},
   "outputs": [],
   "source": [
    "sale_csv.columns"
   ]
  },
  {
   "cell_type": "code",
   "execution_count": null,
   "id": "e5df54b7-2dba-4315-83a1-1c848020d5ed",
   "metadata": {},
   "outputs": [],
   "source": [
    "sale_json.head()"
   ]
  },
  {
   "cell_type": "code",
   "execution_count": null,
   "id": "f96d4519-75c9-410d-b4d3-7037f9c10bd0",
   "metadata": {},
   "outputs": [],
   "source": [
    "sale_excel.head()"
   ]
  },
  {
   "cell_type": "code",
   "execution_count": null,
   "id": "87172837-15e3-40e2-b021-012f80f512c5",
   "metadata": {},
   "outputs": [],
   "source": [
    "sale_csv.isnull().sum()"
   ]
  },
  {
   "cell_type": "code",
   "execution_count": null,
   "id": "c7911019-a43b-449c-9af0-87189ac85c85",
   "metadata": {},
   "outputs": [],
   "source": [
    "# df=pd.concat([sale_csv,sale_excel,sale_json], ignore_index=True)"
   ]
  },
  {
   "cell_type": "code",
   "execution_count": null,
   "id": "daa69080-c84b-41f1-8a5c-4338266cebca",
   "metadata": {},
   "outputs": [],
   "source": [
    "df"
   ]
  },
  {
   "cell_type": "code",
   "execution_count": null,
   "id": "849cedda-a506-4511-8ddc-7a3220938c44",
   "metadata": {},
   "outputs": [],
   "source": [
    "df.fillna(method='ffill', inplace=True)"
   ]
  },
  {
   "cell_type": "code",
   "execution_count": null,
   "id": "29980eda-a98b-4536-8062-05352a25b976",
   "metadata": {},
   "outputs": [],
   "source": [
    "df.isnull().sum()"
   ]
  },
  {
   "cell_type": "code",
   "execution_count": null,
   "id": "ea1bdc2a-bd4b-4e84-8f3f-731a718c49a4",
   "metadata": {},
   "outputs": [],
   "source": [
    "sale_csv.dtypes"
   ]
  },
  {
   "cell_type": "code",
   "execution_count": null,
   "id": "52454a39-2f85-4660-a4ab-60bcfe29fc19",
   "metadata": {},
   "outputs": [],
   "source": [
    "sale_csv['ORDERDATE']=pd.to_datetime(sale_csv['ORDERDATE'])"
   ]
  },
  {
   "cell_type": "code",
   "execution_count": null,
   "id": "dacb78bb-6caa-40c2-9bc1-7daa44885617",
   "metadata": {},
   "outputs": [],
   "source": [
    "sale_csv.dtypes"
   ]
  },
  {
   "cell_type": "code",
   "execution_count": null,
   "id": "0513be72-cf2d-4ebb-a331-ee53650d8b33",
   "metadata": {},
   "outputs": [],
   "source": [
    "sale_excel['Total_Sales']=sale_excel[['JANUARY', 'FEBRUARY', 'MARCH', 'APRIL', 'MAY', 'JUNE', 'JULY', 'AUGUST', 'SEPTEMBER', 'OCTOBER', 'NOVEMBER', 'DECEMBER']].apply(pd.to_numeric,errors='coerce').sum(axis=1)"
   ]
  },
  {
   "cell_type": "code",
   "execution_count": null,
   "id": "5b71064e-6cbb-4d4e-96a0-4a747d1090c7",
   "metadata": {},
   "outputs": [],
   "source": [
    "Total_Sales=sale_excel['Total_Sales'].sum()\n",
    "Total_Sales"
   ]
  },
  {
   "cell_type": "code",
   "execution_count": null,
   "id": "eb5e4f7f-4020-42ea-8feb-b94dbf8cc0d1",
   "metadata": {},
   "outputs": [],
   "source": [
    "sale_csv['Average_Total_Value']=sale_csv['SALES']/sale_csv['QUANTITYORDERED']"
   ]
  },
  {
   "cell_type": "code",
   "execution_count": null,
   "id": "4cecdea5-7848-4d93-ad03-a1e4a5c0f312",
   "metadata": {},
   "outputs": [],
   "source": [
    "Average_Total_Value=sale_csv['Average_Total_Value'].mean()\n",
    "Average_Total_Value"
   ]
  },
  {
   "cell_type": "code",
   "execution_count": null,
   "id": "e3397c87-870c-4d86-beab-5bdc8b0df0cb",
   "metadata": {},
   "outputs": [],
   "source": [
    "product_category_distribution=sale_csv['PRODUCTLINE'].value_counts(normalize=True)*100\n",
    "product_category_distribution"
   ]
  },
  {
   "cell_type": "code",
   "execution_count": null,
   "id": "de2b5a43-c351-470f-bbf6-172088390cb6",
   "metadata": {},
   "outputs": [],
   "source": [
    "sale_csv[['PRODUCTLINE','SALES']].groupby('PRODUCTLINE').sum().plot(kind='bar', title=\"Total sales by product line\")"
   ]
  },
  {
   "cell_type": "code",
   "execution_count": null,
   "id": "654ee0a7-1a29-41d0-b9fa-255f012a6929",
   "metadata": {},
   "outputs": [],
   "source": [
    "sale_csv['DEALSIZE'].value_counts().plot(kind='pie', autopct='%1.1f%%', title=\"Deal Size Distribution\")"
   ]
  },
  {
   "cell_type": "code",
   "execution_count": null,
   "id": "b8d68ee9-1325-4abd-b119-88baed93d889",
   "metadata": {},
   "outputs": [],
   "source": [
    "sale_csv['PRODUCTLINE'].value_counts().plot(kind='pie', autopct='%1.1f%%', title=\"PRODUCTLINE Distribution\")"
   ]
  },
  {
   "cell_type": "code",
   "execution_count": null,
   "id": "d8e01dbd-7c85-44e0-a2a2-45a5a5fc0f5c",
   "metadata": {},
   "outputs": [],
   "source": [
    "sale_excel[['Total_Sales','SALES_BY_REGION']].groupby('SALES_BY_REGION').sum().plot(kind='bar')"
   ]
  },
  {
   "cell_type": "code",
   "execution_count": null,
   "id": "d2d204b0-47e6-44fb-92a0-ad3d04134905",
   "metadata": {},
   "outputs": [],
   "source": [
    "corr_matix= sale_csv[[ 'QUANTITYORDERED', 'PRICEEACH', 'SALES']].corr()\n",
    "corr_matix\n",
    "\n",
    "import matplotlib.pyplot as plt\n",
    "import seaborn as sns\n",
    "\n",
    "plt.figure(figsize=(8,6))\n",
    "sns.heatmap(corr_matix,annot=True)\n",
    "plt.show()"
   ]
  },
  {
   "cell_type": "code",
   "execution_count": null,
   "id": "7d978b25-c80c-4847-9379-79f0c3a4b824",
   "metadata": {},
   "outputs": [],
   "source": []
  }
 ],
 "metadata": {
  "kernelspec": {
   "display_name": "Python 3 (ipykernel)",
   "language": "python",
   "name": "python3"
  },
  "language_info": {
   "codemirror_mode": {
    "name": "ipython",
    "version": 3
   },
   "file_extension": ".py",
   "mimetype": "text/x-python",
   "name": "python",
   "nbconvert_exporter": "python",
   "pygments_lexer": "ipython3",
   "version": "3.11.9"
  }
 },
 "nbformat": 4,
 "nbformat_minor": 5
}
