{
 "cells": [
  {
   "cell_type": "markdown",
   "id": "cd52853f-a982-4934-bb2c-fbfb09bc689e",
   "metadata": {},
   "source": [
    "Data Loading, Storage and File Formats \n",
    "Problem Statement: Analyzing Sales Data from Multiple File Formats \n",
    "Dataset: Sales data in multiple file formats (e.g., CSV, Excel, JSON) \n",
    "Description: The goal is to load and analyze sales data from different file formats, including \n",
    "CSV, Excel, and JSON, and perform data cleaning, transformation, and analysis on the \n",
    "dataset. \n",
    "  \n",
    "Tasks to Perform: \n",
    " Obtain sales data files in various formats, such as CSV, Excel, and JSON. \n",
    "1. Load the sales data from each file format into the appropriate data structures or \n",
    "dataframes. \n",
    "2. Explore the structure and content of the loaded data, identifying any inconsistencies, \n",
    "missing values, or data quality issues. \n",
    "3. Perform data cleaning operations, such as handling missing values, removing \n",
    "duplicates, or correcting inconsistencies. \n",
    "4. Convert the data into a unified format, such as a common dataframe or data structure, \n",
    "to enable seamless analysis.\n",
    "5. Perform data transformation tasks, such as merging multiple datasets, splitting \n",
    "columns, or deriving new variables. \n",
    "6. Analyze the sales data by performing descriptive statistics, aggregating data by \n",
    "specific variables, or calculating metrics such as total sales, average order value, or \n",
    "product category distribution. \n",
    "7. Create visualizations, such as bar plots, pie charts, or box plots, to represent the sales \n",
    "data and gain insights into sales trends, customer behavior, or product performance. "
   ]
  },
  {
   "cell_type": "code",
   "execution_count": null,
   "id": "753f9f3a-cd4e-4ea7-b395-186b90d25401",
   "metadata": {},
   "outputs": [],
   "source": [
    "import pandas as pd\n",
    "import json\n",
    "import matplotlib.pyplot"
   ]
  },
  {
   "cell_type": "code",
   "execution_count": null,
   "id": "a75a5b9d-4fd3-40df-a49a-62a6eddf07c1",
   "metadata": {},
   "outputs": [],
   "source": [
    "sale_csv = pd.read_csv(\"sales_data_sample.csv\", encoding='ISO-8859-1')"
   ]
  },
  {
   "cell_type": "code",
   "execution_count": null,
   "id": "4894228c-563e-4678-9fca-a28d15d7afee",
   "metadata": {},
   "outputs": [],
   "source": [
    "sale_xls = pd.read_excel(\"Sales.xlsx\")"
   ]
  },
  {
   "cell_type": "code",
   "execution_count": null,
   "id": "e8a2904a-e700-4195-a0ad-76be5c21b7db",
   "metadata": {},
   "outputs": [],
   "source": [
    "with open(\"sales.json\", \"r\") as file:\n",
    "    data = json.load(file)"
   ]
  },
  {
   "cell_type": "code",
   "execution_count": null,
   "id": "1a0cc6d2-7118-4c79-ba0f-3ad16639bf03",
   "metadata": {},
   "outputs": [],
   "source": [
    "sale_json = pd.DataFrame.from_dict(data, orient='index')"
   ]
  },
  {
   "cell_type": "code",
   "execution_count": null,
   "id": "fb9d4eff-0af1-49a3-9b61-123fbac542ff",
   "metadata": {},
   "outputs": [],
   "source": [
    "sale_csv.head()"
   ]
  },
  {
   "cell_type": "code",
   "execution_count": null,
   "id": "6ce6077f-cfbd-4735-afbd-d179f29d154a",
   "metadata": {},
   "outputs": [],
   "source": [
    "sale_xls.head()"
   ]
  },
  {
   "cell_type": "code",
   "execution_count": null,
   "id": "17214aed-51a6-4749-a6c8-46700cc6c391",
   "metadata": {},
   "outputs": [],
   "source": [
    "sale_json.head()"
   ]
  },
  {
   "cell_type": "code",
   "execution_count": null,
   "id": "c6561974-d622-43cf-a57f-6ffa7fae8c1b",
   "metadata": {},
   "outputs": [],
   "source": [
    "df = pd.concat([sale_csv, sale_json, sale_xls], ignore_index=True)"
   ]
  },
  {
   "cell_type": "code",
   "execution_count": null,
   "id": "5b8a9aea-9a86-4ff1-b2e6-bb3e4b351725",
   "metadata": {},
   "outputs": [],
   "source": [
    "df.head()"
   ]
  },
  {
   "cell_type": "code",
   "execution_count": null,
   "id": "df5a84d8-7a66-4549-be53-10b4168a4913",
   "metadata": {},
   "outputs": [],
   "source": [
    "df.shape"
   ]
  },
  {
   "cell_type": "code",
   "execution_count": null,
   "id": "6f5f72f9-77a0-4d4f-bceb-fedb510e6783",
   "metadata": {
    "scrolled": true
   },
   "outputs": [],
   "source": [
    "df.dtypes"
   ]
  },
  {
   "cell_type": "code",
   "execution_count": null,
   "id": "5d1a7e62-e6b4-44f5-834f-93f4a0815cfb",
   "metadata": {},
   "outputs": [],
   "source": [
    "df.shape"
   ]
  },
  {
   "cell_type": "code",
   "execution_count": null,
   "id": "780b3fbc-e215-44d0-9f05-a03b205c1ceb",
   "metadata": {},
   "outputs": [],
   "source": [
    "df.isnull().sum()"
   ]
  },
  {
   "cell_type": "code",
   "execution_count": null,
   "id": "50952d4e-5854-4582-97e5-92d9a88f7862",
   "metadata": {
    "scrolled": true
   },
   "outputs": [],
   "source": [
    "df.fillna(method='ffill', inplace=True)"
   ]
  },
  {
   "cell_type": "code",
   "execution_count": null,
   "id": "855e1dbe-0b5a-4e5d-928a-f17b1525989c",
   "metadata": {},
   "outputs": [],
   "source": [
    "df.shape"
   ]
  },
  {
   "cell_type": "code",
   "execution_count": null,
   "id": "0862e888-51d4-49d8-8c58-e03a83aa3ac0",
   "metadata": {},
   "outputs": [],
   "source": [
    "df.columns"
   ]
  },
  {
   "cell_type": "code",
   "execution_count": null,
   "id": "3d12d0fd-afd0-4f18-8148-dba4f99abe02",
   "metadata": {},
   "outputs": [],
   "source": [
    "# df[['JANUARY', 'FEBRUARY', 'MARCH', 'APRIL', 'MAY', 'JUNE', 'JULY', 'AUGUST', 'SEPTEMBER', 'OCTOBER', 'NOVEMBER', 'DECEMBER']] = \\\n",
    "# df[['JANUARY', 'FEBRUARY', 'MARCH', 'APRIL', 'MAY', 'JUNE', 'JULY', 'AUGUST', 'SEPTEMBER', 'OCTOBER', 'NOVEMBER', 'DECEMBER']].apply(pd.to_numeric, errors='coerce')"
   ]
  },
  {
   "cell_type": "code",
   "execution_count": null,
   "id": "e8c602df",
   "metadata": {},
   "outputs": [],
   "source": [
    "df"
   ]
  },
  {
   "cell_type": "code",
   "execution_count": null,
   "id": "c5f060b5-a81e-479b-83fd-cda064d4fe24",
   "metadata": {
    "scrolled": true
   },
   "outputs": [],
   "source": [
    "df['TOTAL_SALE'] = df[['JANUARY', 'FEBRUARY', 'MARCH', 'APRIL', 'MAY', 'JUNE', 'JULY', 'AUGUST', 'SEPTEMBER', 'OCTOBER', 'NOVEMBER', 'DECEMBER']].apply(pd.to_numeric, errors='coerce').sum(axis=1)"
   ]
  },
  {
   "cell_type": "code",
   "execution_count": null,
   "id": "1f21ad1f-4baf-4c8a-9bcd-75f5ae5ded2d",
   "metadata": {},
   "outputs": [],
   "source": [
    "df['AVG_ORDER_VALUE'] = df['SALES'] / df['QUANTITYORDERED']"
   ]
  },
  {
   "cell_type": "markdown",
   "id": "34192294-3224-4d8d-a3ae-9d31881dff45",
   "metadata": {},
   "source": [
    "*Analyze the sale*"
   ]
  },
  {
   "cell_type": "code",
   "execution_count": null,
   "id": "961e17f2-901d-4cff-9da5-b85d8ac863b4",
   "metadata": {},
   "outputs": [],
   "source": [
    "total_sales = df['TOTAL_SALE'].sum()\n",
    "total_sales"
   ]
  },
  {
   "cell_type": "code",
   "execution_count": null,
   "id": "6240a8f0-a252-450e-b099-bd7e9ff85d30",
   "metadata": {},
   "outputs": [],
   "source": [
    "avg_order_value = df['AVG_ORDER_VALUE'].mean()\n",
    "avg_order_value"
   ]
  },
  {
   "cell_type": "code",
   "execution_count": null,
   "id": "8794e71e-6913-49f1-9c4b-e92b888e9763",
   "metadata": {},
   "outputs": [],
   "source": [
    "# product_category_distribution = df['PRODUCTLINE'].value_counts(normalize=True) * 100\n",
    "# product_category_distribution"
   ]
  },
  {
   "cell_type": "code",
   "execution_count": null,
   "id": "fc5f7a24-204f-45ec-88ce-fd56b6c7513a",
   "metadata": {},
   "outputs": [],
   "source": [
    "df[['PRODUCTLINE', 'SALES']].groupby('PRODUCTLINE').sum().plot(kind='bar', title=\"Total Sales by Product Line\")"
   ]
  },
  {
   "cell_type": "code",
   "execution_count": null,
   "id": "e61e97d9-7f4d-43ef-b993-77f0dec8d88c",
   "metadata": {},
   "outputs": [],
   "source": [
    "df['DEALSIZE'].value_counts().plot(kind='pie', autopct='%1.1f%%', title=\"Deal Size Distribution\")"
   ]
  },
  {
   "cell_type": "code",
   "execution_count": null,
   "id": "b3cf52a6-93d0-4fec-8462-21e7abff914e",
   "metadata": {},
   "outputs": [],
   "source": [
    "df['PRODUCTLINE'].value_counts().plot(kind='pie', autopct='%1.1f%%', title=\"PRODUCTLINE Distribution\")"
   ]
  },
  {
   "cell_type": "code",
   "execution_count": null,
   "id": "6250de1d",
   "metadata": {},
   "outputs": [],
   "source": [
    "df.head(1)"
   ]
  },
  {
   "cell_type": "code",
   "execution_count": null,
   "id": "41606a1c-c163-4f22-8380-0310a062d8d3",
   "metadata": {},
   "outputs": [],
   "source": [
    "corr_matix= df[[ 'QUANTITYORDERED', 'PRICEEACH', 'SALES', 'TOTAL_SALE', 'AVG_ORDER_VALUE']].corr()\n",
    "corr_matix\n",
    "\n",
    "import matplotlib.pyplot as plt\n",
    "import seaborn as sns\n",
    "\n",
    "plt.figure(figsize=(8,6))\n",
    "sns.heatmap(corr_matix,annot=True)\n",
    "plt.show()\n"
   ]
  },
  {
   "cell_type": "code",
   "execution_count": null,
   "id": "106acd70",
   "metadata": {},
   "outputs": [],
   "source": [
    "# sns.pairplot(df)"
   ]
  }
 ],
 "metadata": {
  "kernelspec": {
   "display_name": "Python 3 (ipykernel)",
   "language": "python",
   "name": "python3"
  },
  "language_info": {
   "codemirror_mode": {
    "name": "ipython",
    "version": 3
   },
   "file_extension": ".py",
   "mimetype": "text/x-python",
   "name": "python",
   "nbconvert_exporter": "python",
   "pygments_lexer": "ipython3",
   "version": "3.11.9"
  }
 },
 "nbformat": 4,
 "nbformat_minor": 5
}
